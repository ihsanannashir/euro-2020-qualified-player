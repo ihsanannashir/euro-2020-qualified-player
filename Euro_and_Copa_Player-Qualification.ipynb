{
  "cells": [
    {
      "cell_type": "markdown",
      "metadata": {
        "id": "8nwj8LthOnrS"
      },
      "source": [
        "**Klasifikasi Overall Rate Penyerang Sepak Bola UEFA & Copa America**\n",
        "*   **La Ode Adriyan Hazmar**\n",
        "*   **M. Ihsan An-Nashir**"
      ]
    },
    {
      "cell_type": "markdown",
      "metadata": {
        "id": "LFngVcGaPlXj"
      },
      "source": [
        "\n",
        "*Memasukkan Dataset*"
      ]
    },
    {
      "cell_type": "code",
      "execution_count": null,
      "metadata": {
        "colab": {
          "base_uri": "https://localhost:8080/"
        },
        "id": "Z644QJQntLYD",
        "outputId": "2eb5587c-445d-4ba4-a944-31d64f5541d6"
      },
      "outputs": [
        {
          "name": "stdout",
          "output_type": "stream",
          "text": [
            "--2021-11-27 16:09:54--  https://raw.githubusercontent.com/ihsanannashir/uefa-player-rating/main/copa-euro-revised.csv\n",
            "Resolving raw.githubusercontent.com (raw.githubusercontent.com)... 185.199.108.133, 185.199.109.133, 185.199.110.133, ...\n",
            "Connecting to raw.githubusercontent.com (raw.githubusercontent.com)|185.199.108.133|:443... connected.\n",
            "HTTP request sent, awaiting response... 200 OK\n",
            "Length: 5215 (5.1K) [text/plain]\n",
            "Saving to: ‘copa-euro-revised.csv.1’\n",
            "\n",
            "\rcopa-euro-revised.c   0%[                    ]       0  --.-KB/s               \rcopa-euro-revised.c 100%[===================>]   5.09K  --.-KB/s    in 0s      \n",
            "\n",
            "2021-11-27 16:09:54 (77.9 MB/s) - ‘copa-euro-revised.csv.1’ saved [5215/5215]\n",
            "\n"
          ]
        }
      ],
      "source": [
        "!wget https://raw.githubusercontent.com/ihsanannashir/uefa-player-rating/main/dataset/copa-euro-revised.csv"
      ]
    },
    {
      "cell_type": "markdown",
      "metadata": {
        "id": "28c4PzS3PuRk"
      },
      "source": [
        "*Memasukkan Library*"
      ]
    },
    {
      "cell_type": "code",
      "execution_count": null,
      "metadata": {
        "id": "U4uHF-xitRHT"
      },
      "outputs": [],
      "source": [
        "import numpy as np\n",
        "import pandas as pd\n",
        "import matplotlib.pyplot as plt"
      ]
    },
    {
      "cell_type": "markdown",
      "metadata": {
        "id": "nwosONF5PxPD"
      },
      "source": [
        "*Mendeklarasikan Variable Data*"
      ]
    },
    {
      "cell_type": "code",
      "execution_count": null,
      "metadata": {
        "id": "N0Zlen37tVcz"
      },
      "outputs": [],
      "source": [
        "data = pd.read_csv(\"copa-euro-revised.csv\")"
      ]
    },
    {
      "cell_type": "markdown",
      "metadata": {
        "id": "fvCaR6PHP3uX"
      },
      "source": [
        "*Menampilkan Data*"
      ]
    },
    {
      "cell_type": "code",
      "execution_count": null,
      "metadata": {
        "colab": {
          "base_uri": "https://localhost:8080/",
          "height": 363
        },
        "id": "HoLRv8uStX9T",
        "outputId": "59d64b88-ae3c-49af-d3f9-9367ce458293"
      },
      "outputs": [
        {
          "data": {
            "text/html": [
              "<div>\n",
              "<style scoped>\n",
              "    .dataframe tbody tr th:only-of-type {\n",
              "        vertical-align: middle;\n",
              "    }\n",
              "\n",
              "    .dataframe tbody tr th {\n",
              "        vertical-align: top;\n",
              "    }\n",
              "\n",
              "    .dataframe thead th {\n",
              "        text-align: right;\n",
              "    }\n",
              "</style>\n",
              "<table border=\"1\" class=\"dataframe\">\n",
              "  <thead>\n",
              "    <tr style=\"text-align: right;\">\n",
              "      <th></th>\n",
              "      <th>name</th>\n",
              "      <th>country</th>\n",
              "      <th>minutes_played</th>\n",
              "      <th>goals</th>\n",
              "      <th>assist</th>\n",
              "      <th>top_speed</th>\n",
              "      <th>class</th>\n",
              "    </tr>\n",
              "  </thead>\n",
              "  <tbody>\n",
              "    <tr>\n",
              "      <th>0</th>\n",
              "      <td>Adam Hložek</td>\n",
              "      <td>Czech Republic</td>\n",
              "      <td>76</td>\n",
              "      <td>0</td>\n",
              "      <td>0</td>\n",
              "      <td>26.8</td>\n",
              "      <td>D</td>\n",
              "    </tr>\n",
              "    <tr>\n",
              "      <th>1</th>\n",
              "      <td>Ádám Szalai</td>\n",
              "      <td>Hungary</td>\n",
              "      <td>1061</td>\n",
              "      <td>2</td>\n",
              "      <td>2</td>\n",
              "      <td>26.1</td>\n",
              "      <td>B</td>\n",
              "    </tr>\n",
              "    <tr>\n",
              "      <th>2</th>\n",
              "      <td>Akram Afif</td>\n",
              "      <td>Qatar</td>\n",
              "      <td>90</td>\n",
              "      <td>0</td>\n",
              "      <td>0</td>\n",
              "      <td>27.0</td>\n",
              "      <td>D</td>\n",
              "    </tr>\n",
              "    <tr>\n",
              "      <th>3</th>\n",
              "      <td>Aleksandar Trajkobski</td>\n",
              "      <td>North Macedonia</td>\n",
              "      <td>412</td>\n",
              "      <td>0</td>\n",
              "      <td>0</td>\n",
              "      <td>29.5</td>\n",
              "      <td>C</td>\n",
              "    </tr>\n",
              "    <tr>\n",
              "      <th>4</th>\n",
              "      <td>Aleksander Sobolev</td>\n",
              "      <td>Russia</td>\n",
              "      <td>35</td>\n",
              "      <td>0</td>\n",
              "      <td>0</td>\n",
              "      <td>24.8</td>\n",
              "      <td>D</td>\n",
              "    </tr>\n",
              "    <tr>\n",
              "      <th>5</th>\n",
              "      <td>Aleksei Miranchuk</td>\n",
              "      <td>Russia</td>\n",
              "      <td>432</td>\n",
              "      <td>2</td>\n",
              "      <td>0</td>\n",
              "      <td>29.5</td>\n",
              "      <td>C</td>\n",
              "    </tr>\n",
              "    <tr>\n",
              "      <th>6</th>\n",
              "      <td>Alexander Isak</td>\n",
              "      <td>Sweden</td>\n",
              "      <td>685</td>\n",
              "      <td>3</td>\n",
              "      <td>1</td>\n",
              "      <td>32.0</td>\n",
              "      <td>B</td>\n",
              "    </tr>\n",
              "    <tr>\n",
              "      <th>7</th>\n",
              "      <td>Alexis Sanchez</td>\n",
              "      <td>Chile</td>\n",
              "      <td>168</td>\n",
              "      <td>0</td>\n",
              "      <td>1</td>\n",
              "      <td>28.5</td>\n",
              "      <td>C</td>\n",
              "    </tr>\n",
              "    <tr>\n",
              "      <th>8</th>\n",
              "      <td>Almoez Ali</td>\n",
              "      <td>Qatar</td>\n",
              "      <td>270</td>\n",
              "      <td>2</td>\n",
              "      <td>0</td>\n",
              "      <td>28.8</td>\n",
              "      <td>C</td>\n",
              "    </tr>\n",
              "    <tr>\n",
              "      <th>9</th>\n",
              "      <td>Alvaro Morata</td>\n",
              "      <td>Spain</td>\n",
              "      <td>891</td>\n",
              "      <td>7</td>\n",
              "      <td>0</td>\n",
              "      <td>32.0</td>\n",
              "      <td>A</td>\n",
              "    </tr>\n",
              "  </tbody>\n",
              "</table>\n",
              "</div>"
            ],
            "text/plain": [
              "                    name          country  ...  top_speed  class\n",
              "0            Adam Hložek   Czech Republic  ...       26.8      D\n",
              "1            Ádám Szalai          Hungary  ...       26.1      B\n",
              "2             Akram Afif            Qatar  ...       27.0      D\n",
              "3  Aleksandar Trajkobski  North Macedonia  ...       29.5      C\n",
              "4     Aleksander Sobolev           Russia  ...       24.8      D\n",
              "5      Aleksei Miranchuk           Russia  ...       29.5      C\n",
              "6         Alexander Isak           Sweden  ...       32.0      B\n",
              "7         Alexis Sanchez            Chile  ...       28.5      C\n",
              "8             Almoez Ali            Qatar  ...       28.8      C\n",
              "9          Alvaro Morata            Spain  ...       32.0      A\n",
              "\n",
              "[10 rows x 7 columns]"
            ]
          },
          "execution_count": 456,
          "metadata": {},
          "output_type": "execute_result"
        }
      ],
      "source": [
        "data.head(10)"
      ]
    },
    {
      "cell_type": "markdown",
      "metadata": {
        "id": "cQJ2XicBQCyY"
      },
      "source": [
        "*Memilih Atribut dan Label*"
      ]
    },
    {
      "cell_type": "code",
      "execution_count": null,
      "metadata": {
        "id": "1FOd58SftauL"
      },
      "outputs": [],
      "source": [
        "X = data.iloc[:, 2:5].values\n",
        "y = data.iloc[:, 6].values"
      ]
    },
    {
      "cell_type": "markdown",
      "metadata": {
        "id": "jt7ZaAGwQL1l"
      },
      "source": [
        "*Memisahkan Data Training dan Data Testing*"
      ]
    },
    {
      "cell_type": "code",
      "execution_count": null,
      "metadata": {
        "id": "8TH9era7til3"
      },
      "outputs": [],
      "source": [
        "from sklearn.model_selection import train_test_split\n",
        "X_train, X_test, y_train, y_test = train_test_split(X, y, test_size=0.20,stratify=data['class'])"
      ]
    },
    {
      "cell_type": "markdown",
      "metadata": {
        "id": "0r_ddNgEQctq"
      },
      "source": [
        "*Normalisasi Data*"
      ]
    },
    {
      "cell_type": "code",
      "execution_count": null,
      "metadata": {
        "id": "T1Cu7RlytkMb"
      },
      "outputs": [],
      "source": [
        "from sklearn.preprocessing import StandardScaler\n",
        "scaler = StandardScaler()\n",
        "scaler.fit(X_train)\n",
        "\n",
        "X_train = scaler.transform(X_train)\n",
        "X_test = scaler.transform(X_test)"
      ]
    },
    {
      "cell_type": "markdown",
      "metadata": {
        "id": "rcwJO0AZQoM2"
      },
      "source": [
        "*Menentukan nilai K dan Memulai Training*"
      ]
    },
    {
      "cell_type": "code",
      "execution_count": null,
      "metadata": {
        "colab": {
          "base_uri": "https://localhost:8080/"
        },
        "id": "AGCSjexetrNo",
        "outputId": "c116432a-520b-44fd-8fcb-f98d72b1a4b3"
      },
      "outputs": [
        {
          "data": {
            "text/plain": [
              "KNeighborsClassifier()"
            ]
          },
          "execution_count": 478,
          "metadata": {},
          "output_type": "execute_result"
        }
      ],
      "source": [
        "from sklearn.neighbors import KNeighborsClassifier\n",
        "classifier = KNeighborsClassifier(n_neighbors=5)\n",
        "classifier.fit(X_train, y_train)"
      ]
    },
    {
      "cell_type": "markdown",
      "metadata": {
        "id": "nt5ffWMQQ6Sr"
      },
      "source": [
        "*Menampilkan Hasil Prediksi*"
      ]
    },
    {
      "cell_type": "code",
      "execution_count": null,
      "metadata": {
        "id": "pazCbLRXtudn"
      },
      "outputs": [],
      "source": [
        "y_pred = classifier.predict(X_test)"
      ]
    },
    {
      "cell_type": "code",
      "execution_count": null,
      "metadata": {
        "colab": {
          "base_uri": "https://localhost:8080/"
        },
        "id": "XP7EWoSptwkH",
        "outputId": "32eed72c-ffe6-4273-8054-9343abab15d1"
      },
      "outputs": [
        {
          "name": "stdout",
          "output_type": "stream",
          "text": [
            "[[4 0 0 0 0]\n",
            " [0 2 0 0 0]\n",
            " [1 0 3 3 0]\n",
            " [0 0 0 8 1]\n",
            " [0 0 0 2 3]]\n",
            "              precision    recall  f1-score   support\n",
            "\n",
            "           A       0.80      1.00      0.89         4\n",
            "          A+       1.00      1.00      1.00         2\n",
            "           B       1.00      0.43      0.60         7\n",
            "           C       0.62      0.89      0.73         9\n",
            "           D       0.75      0.60      0.67         5\n",
            "\n",
            "    accuracy                           0.74        27\n",
            "   macro avg       0.83      0.78      0.78        27\n",
            "weighted avg       0.80      0.74      0.73        27\n",
            "\n"
          ]
        }
      ],
      "source": [
        "from sklearn.metrics import classification_report, confusion_matrix\n",
        "print(confusion_matrix(y_test, y_pred))\n",
        "print(classification_report(y_test, y_pred))"
      ]
    },
    {
      "cell_type": "markdown",
      "metadata": {
        "id": "KdIEw1okRCW9"
      },
      "source": [
        "*Menghitung Error Rate nilai K*"
      ]
    },
    {
      "cell_type": "code",
      "execution_count": null,
      "metadata": {
        "id": "tq4xqCZ3umd4"
      },
      "outputs": [],
      "source": [
        "error = []\n",
        "\n",
        "for i in range(1, 40):\n",
        "    knn = KNeighborsClassifier(n_neighbors=i)\n",
        "    knn.fit(X_train, y_train)\n",
        "    pred_i = knn.predict(X_test)\n",
        "    error.append(np.mean(pred_i != y_test))"
      ]
    },
    {
      "cell_type": "code",
      "execution_count": null,
      "metadata": {
        "colab": {
          "base_uri": "https://localhost:8080/",
          "height": 422
        },
        "id": "P2GxLw32uq4O",
        "outputId": "45fc0bf3-afb5-41f9-97cb-6266ecad1c2b"
      },
      "outputs": [
        {
          "data": {
            "text/plain": [
              "Text(0, 0.5, 'Mean Error')"
            ]
          },
          "execution_count": 483,
          "metadata": {},
          "output_type": "execute_result"
        },
        {
          "data": {
            "image/png": "[encoded data removed]",
            "text/plain": [
              "<Figure size 864x432 with 1 Axes>"
            ]
          },
          "metadata": {
            "needs_background": "light"
          },
          "output_type": "display_data"
        }
      ],
      "source": [
        "plt.figure(figsize=(12, 6))\n",
        "plt.plot(range(1, 40), error, color='blue', linestyle='dashed', marker='o',\n",
        "         markerfacecolor='green', markersize=10)\n",
        "plt.title('Error Rate K Value')\n",
        "plt.xlabel('K Value')\n",
        "plt.ylabel('Mean Error')"
      ]
    }
  ],
  "metadata": {
    "colab": {
      "name": "Tugas-Akhir-Pengenalan-Pola",
      "provenance": []
    },
    "kernelspec": {
      "display_name": "Python 3",
      "name": "python3"
    },
    "language_info": {
      "name": "python"
    }
  },
  "nbformat": 4,
  "nbformat_minor": 0
}
